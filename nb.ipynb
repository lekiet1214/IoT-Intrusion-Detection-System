{
 "cells": [
  {
   "cell_type": "code",
   "execution_count": 66,
   "metadata": {},
   "outputs": [],
   "source": [
    "from __future__ import print_function\n",
    "from keras.layers import Convolution1D, MaxPooling1D\n",
    "from sklearn.preprocessing import LabelEncoder\n",
    "from keras.callbacks import CSVLogger\n",
    "from keras.layers import LSTM\n",
    "from keras import callbacks\n",
    "from keras.layers import Convolution1D, Dense, Dropout, MaxPooling1D\n",
    "from sklearn.preprocessing import Normalizer\n",
    "import pandas as pd\n",
    "from keras.layers import Dense, Dropout\n",
    "from keras.models import Sequential\n",
    "import numpy as np\n",
    "import glob\n",
    "import seaborn as sns\n",
    "import matplotlib.pyplot as plt\n",
    "import tensorflow as tf\n",
    "np.random.seed(1337)  # for reproducibility"
   ]
  },
  {
   "cell_type": "code",
   "execution_count": 2,
   "metadata": {},
   "outputs": [],
   "source": [
    "col_names = [\n",
    "    'sport', 'dsport', 'proto', 'state', 'dur', 'sbytes', 'dbytes', 'sttl', 'dttl', 'sloss',\n",
    "    'dloss', 'service', 'Sload', 'Dload', 'Spkts', 'Dpkts', 'swin', 'dwin', 'stcpb', 'dtcpb', 'smeansz', 'dmeansz',\n",
    "    'trans_depth', 'res_bdy_len', 'Sjit', 'Djit', 'Sintpkt', 'Dintpkt', 'tcprtt', 'synack',\n",
    "    'ackdat', 'is_sm_ips_ports', 'ct_state_ttl', 'ct_flw_http_mthd', 'is_ftp_login', 'ct_ftp_cmd', 'ct_srv_src',\n",
    "    'ct_srv_dst', 'ct_dst_ltm', 'ct_src_ ltm', 'ct_src_dport_ltm', 'ct_dst_sport_ltm', 'ct_dst_src_ltm',\n",
    "    'Label'\n",
    "]"
   ]
  },
  {
   "cell_type": "code",
   "execution_count": 3,
   "metadata": {},
   "outputs": [],
   "source": [
    "def castNumeric(item):\n",
    "    if item.isnumeric():\n",
    "        return int(item)\n",
    "    return np.nan"
   ]
  },
  {
   "cell_type": "code",
   "execution_count": 6,
   "metadata": {},
   "outputs": [],
   "source": [
    "TRAIN_FILE = glob.glob('./csv_fold/fold*.csv')"
   ]
  },
  {
   "cell_type": "code",
   "execution_count": 7,
   "metadata": {},
   "outputs": [
    {
     "data": {
      "text/plain": [
       "['./csv_fold\\\\fold_0.csv',\n",
       " './csv_fold\\\\fold_1.csv',\n",
       " './csv_fold\\\\fold_10.csv',\n",
       " './csv_fold\\\\fold_11.csv',\n",
       " './csv_fold\\\\fold_12.csv',\n",
       " './csv_fold\\\\fold_13.csv',\n",
       " './csv_fold\\\\fold_14.csv',\n",
       " './csv_fold\\\\fold_15.csv',\n",
       " './csv_fold\\\\fold_16.csv',\n",
       " './csv_fold\\\\fold_17.csv',\n",
       " './csv_fold\\\\fold_18.csv',\n",
       " './csv_fold\\\\fold_19.csv',\n",
       " './csv_fold\\\\fold_2.csv',\n",
       " './csv_fold\\\\fold_20.csv',\n",
       " './csv_fold\\\\fold_21.csv',\n",
       " './csv_fold\\\\fold_3.csv',\n",
       " './csv_fold\\\\fold_4.csv',\n",
       " './csv_fold\\\\fold_5.csv',\n",
       " './csv_fold\\\\fold_6.csv',\n",
       " './csv_fold\\\\fold_7.csv',\n",
       " './csv_fold\\\\fold_8.csv',\n",
       " './csv_fold\\\\fold_9.csv']"
      ]
     },
     "execution_count": 7,
     "metadata": {},
     "output_type": "execute_result"
    }
   ],
   "source": [
    "TRAIN_FILE"
   ]
  },
  {
   "cell_type": "code",
   "execution_count": 8,
   "metadata": {},
   "outputs": [],
   "source": [
    "TEST_FILE = glob.glob('./csv_fold/test.csv')"
   ]
  },
  {
   "cell_type": "code",
   "execution_count": 43,
   "metadata": {},
   "outputs": [],
   "source": [
    "def load_csv(name):\n",
    "    df = pd.read_csv(name, header=None, names=col_names,converters={'ct_ftp_cmd':castNumeric}, low_memory=False,)\n",
    "    df = df.iloc[1:]\n",
    "    df = df[~((df['is_sm_ips_ports'] == 0)|(df['is_sm_ips_ports'] == 1))]\n",
    "    df = df[~((df['is_ftp_login'] == 0)|(df['is_ftp_login'] == 1))]\n",
    "    df = df[~((df['Label'] == 0)|(df['Label'] == 1))]\n",
    "    return df"
   ]
  },
  {
   "cell_type": "code",
   "execution_count": 44,
   "metadata": {},
   "outputs": [
    {
     "name": "stdout",
     "output_type": "stream",
     "text": [
      "<class 'pandas.core.frame.DataFrame'>\n",
      "Int64Index: 100000 entries, 1 to 100000\n",
      "Data columns (total 44 columns):\n",
      " #   Column            Non-Null Count   Dtype  \n",
      "---  ------            --------------   -----  \n",
      " 0   sport             100000 non-null  object \n",
      " 1   dsport            100000 non-null  object \n",
      " 2   proto             100000 non-null  object \n",
      " 3   state             100000 non-null  object \n",
      " 4   dur               100000 non-null  object \n",
      " 5   sbytes            100000 non-null  object \n",
      " 6   dbytes            100000 non-null  object \n",
      " 7   sttl              100000 non-null  object \n",
      " 8   dttl              100000 non-null  object \n",
      " 9   sloss             100000 non-null  object \n",
      " 10  dloss             100000 non-null  object \n",
      " 11  service           100000 non-null  object \n",
      " 12  Sload             100000 non-null  object \n",
      " 13  Dload             100000 non-null  object \n",
      " 14  Spkts             100000 non-null  object \n",
      " 15  Dpkts             100000 non-null  object \n",
      " 16  swin              100000 non-null  object \n",
      " 17  dwin              100000 non-null  object \n",
      " 18  stcpb             100000 non-null  object \n",
      " 19  dtcpb             100000 non-null  object \n",
      " 20  smeansz           100000 non-null  object \n",
      " 21  dmeansz           100000 non-null  object \n",
      " 22  trans_depth       100000 non-null  object \n",
      " 23  res_bdy_len       100000 non-null  object \n",
      " 24  Sjit              100000 non-null  object \n",
      " 25  Djit              100000 non-null  object \n",
      " 26  Sintpkt           100000 non-null  object \n",
      " 27  Dintpkt           100000 non-null  object \n",
      " 28  tcprtt            100000 non-null  object \n",
      " 29  synack            100000 non-null  object \n",
      " 30  ackdat            100000 non-null  object \n",
      " 31  is_sm_ips_ports   100000 non-null  object \n",
      " 32  ct_state_ttl      100000 non-null  object \n",
      " 33  ct_flw_http_mthd  100000 non-null  object \n",
      " 34  is_ftp_login      100000 non-null  object \n",
      " 35  ct_ftp_cmd        100000 non-null  float64\n",
      " 36  ct_srv_src        100000 non-null  object \n",
      " 37  ct_srv_dst        100000 non-null  object \n",
      " 38  ct_dst_ltm        100000 non-null  object \n",
      " 39  ct_src_ ltm       100000 non-null  object \n",
      " 40  ct_src_dport_ltm  100000 non-null  object \n",
      " 41  ct_dst_sport_ltm  100000 non-null  object \n",
      " 42  ct_dst_src_ltm    100000 non-null  object \n",
      " 43  Label             100000 non-null  object \n",
      "dtypes: float64(1), object(43)\n",
      "memory usage: 34.3+ MB\n"
     ]
    }
   ],
   "source": [
    "load_csv(TRAIN_FILE[0]).info()"
   ]
  },
  {
   "cell_type": "code",
   "execution_count": 38,
   "metadata": {},
   "outputs": [],
   "source": [
    "traindata = []\n",
    "for name in TRAIN_FILE:\n",
    "    traindata.append(load_csv(name))\n",
    "traindf = pd.concat(traindata)"
   ]
  },
  {
   "cell_type": "code",
   "execution_count": 39,
   "metadata": {},
   "outputs": [
    {
     "name": "stdout",
     "output_type": "stream",
     "text": [
      "<class 'pandas.core.frame.DataFrame'>\n",
      "Int64Index: 2100000 entries, 1 to 100000\n",
      "Data columns (total 44 columns):\n",
      " #   Column            Dtype  \n",
      "---  ------            -----  \n",
      " 0   sport             object \n",
      " 1   dsport            object \n",
      " 2   proto             object \n",
      " 3   state             object \n",
      " 4   dur               object \n",
      " 5   sbytes            object \n",
      " 6   dbytes            object \n",
      " 7   sttl              object \n",
      " 8   dttl              object \n",
      " 9   sloss             object \n",
      " 10  dloss             object \n",
      " 11  service           object \n",
      " 12  Sload             object \n",
      " 13  Dload             object \n",
      " 14  Spkts             object \n",
      " 15  Dpkts             object \n",
      " 16  swin              object \n",
      " 17  dwin              object \n",
      " 18  stcpb             object \n",
      " 19  dtcpb             object \n",
      " 20  smeansz           object \n",
      " 21  dmeansz           object \n",
      " 22  trans_depth       object \n",
      " 23  res_bdy_len       object \n",
      " 24  Sjit              object \n",
      " 25  Djit              object \n",
      " 26  Sintpkt           object \n",
      " 27  Dintpkt           object \n",
      " 28  tcprtt            object \n",
      " 29  synack            object \n",
      " 30  ackdat            object \n",
      " 31  is_sm_ips_ports   object \n",
      " 32  ct_state_ttl      object \n",
      " 33  ct_flw_http_mthd  object \n",
      " 34  is_ftp_login      object \n",
      " 35  ct_ftp_cmd        float64\n",
      " 36  ct_srv_src        object \n",
      " 37  ct_srv_dst        object \n",
      " 38  ct_dst_ltm        object \n",
      " 39  ct_src_ ltm       object \n",
      " 40  ct_src_dport_ltm  object \n",
      " 41  ct_dst_sport_ltm  object \n",
      " 42  ct_dst_src_ltm    object \n",
      " 43  Label             object \n",
      "dtypes: float64(1), object(43)\n",
      "memory usage: 721.0+ MB\n"
     ]
    }
   ],
   "source": [
    "traindf.info()"
   ]
  },
  {
   "cell_type": "code",
   "execution_count": 45,
   "metadata": {},
   "outputs": [
    {
     "data": {
      "text/plain": [
       "<bound method NDFrame.head of         sport dsport proto state       dur sbytes dbytes sttl dttl sloss  ...  \\\n",
       "1        1390     53   udp   CON  0.001055    132    164   31   29     0  ...   \n",
       "2       33661   1024   udp   CON  0.036133    528    304   31   29     0  ...   \n",
       "3        1464     53   udp   CON  0.001119    146    178   31   29     0  ...   \n",
       "4        3593     53   udp   CON  0.001209    132    164   31   29     0  ...   \n",
       "5       49664     53   udp   CON  0.001169    146    178   31   29     0  ...   \n",
       "...       ...    ...   ...   ...       ...    ...    ...  ...  ...   ...  ...   \n",
       "99996    5551     25   tcp   FIN  0.036674  37262   3380   31   29    18  ...   \n",
       "99997   60838    111   udp   CON  0.004771    568    320   31   29     0  ...   \n",
       "99998    1665    143   tcp   FIN  0.044128   7816  14952   31   29    30  ...   \n",
       "99999   63494     80   tcp   FIN  1.076023   1684  10168   31   29     3  ...   \n",
       "100000  53128     25   tcp   FIN  0.070535  37262   3380   31   29    18  ...   \n",
       "\n",
       "       is_ftp_login ct_ftp_cmd ct_srv_src ct_srv_dst ct_dst_ltm ct_src_ ltm  \\\n",
       "1                 0        0.0          3          7          1           3   \n",
       "2                 0        0.0          2          4          2           3   \n",
       "3                 0        0.0         12          8          1           2   \n",
       "4                 0        0.0          6          9          1           1   \n",
       "5                 0        0.0          7          9          1           1   \n",
       "...             ...        ...        ...        ...        ...         ...   \n",
       "99996           0.0        0.0          1          1          1           2   \n",
       "99997           0.0        0.0          7         10          6           5   \n",
       "99998           0.0        0.0          4          3          5           3   \n",
       "99999           0.0        0.0          4          2          5           3   \n",
       "100000          0.0        0.0          2          2          5           4   \n",
       "\n",
       "       ct_src_dport_ltm ct_dst_sport_ltm ct_dst_src_ltm Label  \n",
       "1                     1                1              1     0  \n",
       "2                     1                1              2     0  \n",
       "3                     2                1              1     0  \n",
       "4                     1                1              1     0  \n",
       "5                     1                1              1     0  \n",
       "...                 ...              ...            ...   ...  \n",
       "99996                 1                1              1     0  \n",
       "99997                 1                1              3     0  \n",
       "99998                 1                1              1     0  \n",
       "99999                 2                1              1     0  \n",
       "100000                1                1              3     0  \n",
       "\n",
       "[2100000 rows x 44 columns]>"
      ]
     },
     "execution_count": 45,
     "metadata": {},
     "output_type": "execute_result"
    }
   ],
   "source": [
    "traindf.head"
   ]
  },
  {
   "cell_type": "code",
   "execution_count": 47,
   "metadata": {},
   "outputs": [],
   "source": [
    "traindf.fillna(0, inplace=True)"
   ]
  },
  {
   "cell_type": "code",
   "execution_count": 48,
   "metadata": {},
   "outputs": [
    {
     "data": {
      "text/plain": [
       "sport               0\n",
       "dsport              0\n",
       "proto               0\n",
       "state               0\n",
       "dur                 0\n",
       "sbytes              0\n",
       "dbytes              0\n",
       "sttl                0\n",
       "dttl                0\n",
       "sloss               0\n",
       "dloss               0\n",
       "service             0\n",
       "Sload               0\n",
       "Dload               0\n",
       "Spkts               0\n",
       "Dpkts               0\n",
       "swin                0\n",
       "dwin                0\n",
       "stcpb               0\n",
       "dtcpb               0\n",
       "smeansz             0\n",
       "dmeansz             0\n",
       "trans_depth         0\n",
       "res_bdy_len         0\n",
       "Sjit                0\n",
       "Djit                0\n",
       "Sintpkt             0\n",
       "Dintpkt             0\n",
       "tcprtt              0\n",
       "synack              0\n",
       "ackdat              0\n",
       "is_sm_ips_ports     0\n",
       "ct_state_ttl        0\n",
       "ct_flw_http_mthd    0\n",
       "is_ftp_login        0\n",
       "ct_ftp_cmd          0\n",
       "ct_srv_src          0\n",
       "ct_srv_dst          0\n",
       "ct_dst_ltm          0\n",
       "ct_src_ ltm         0\n",
       "ct_src_dport_ltm    0\n",
       "ct_dst_sport_ltm    0\n",
       "ct_dst_src_ltm      0\n",
       "Label               0\n",
       "dtype: int64"
      ]
     },
     "execution_count": 48,
     "metadata": {},
     "output_type": "execute_result"
    }
   ],
   "source": [
    "traindf.isna().sum()"
   ]
  },
  {
   "cell_type": "code",
   "execution_count": 49,
   "metadata": {},
   "outputs": [
    {
     "data": {
      "text/plain": [
       "(2100000, 44)"
      ]
     },
     "execution_count": 49,
     "metadata": {},
     "output_type": "execute_result"
    }
   ],
   "source": [
    "traindf.shape"
   ]
  },
  {
   "cell_type": "code",
   "execution_count": 55,
   "metadata": {},
   "outputs": [
    {
     "name": "stdout",
     "output_type": "stream",
     "text": [
      "<class 'pandas.core.frame.DataFrame'>\n",
      "Int64Index: 2100000 entries, 1 to 100000\n",
      "Data columns (total 44 columns):\n",
      " #   Column            Dtype  \n",
      "---  ------            -----  \n",
      " 0   sport             object \n",
      " 1   dsport            object \n",
      " 2   proto             object \n",
      " 3   state             object \n",
      " 4   dur               object \n",
      " 5   sbytes            object \n",
      " 6   dbytes            object \n",
      " 7   sttl              object \n",
      " 8   dttl              object \n",
      " 9   sloss             object \n",
      " 10  dloss             object \n",
      " 11  service           object \n",
      " 12  Sload             object \n",
      " 13  Dload             object \n",
      " 14  Spkts             object \n",
      " 15  Dpkts             object \n",
      " 16  swin              object \n",
      " 17  dwin              object \n",
      " 18  stcpb             object \n",
      " 19  dtcpb             object \n",
      " 20  smeansz           object \n",
      " 21  dmeansz           object \n",
      " 22  trans_depth       object \n",
      " 23  res_bdy_len       object \n",
      " 24  Sjit              object \n",
      " 25  Djit              object \n",
      " 26  Sintpkt           object \n",
      " 27  Dintpkt           object \n",
      " 28  tcprtt            object \n",
      " 29  synack            object \n",
      " 30  ackdat            object \n",
      " 31  is_sm_ips_ports   object \n",
      " 32  ct_state_ttl      object \n",
      " 33  ct_flw_http_mthd  object \n",
      " 34  is_ftp_login      object \n",
      " 35  ct_ftp_cmd        float64\n",
      " 36  ct_srv_src        object \n",
      " 37  ct_srv_dst        object \n",
      " 38  ct_dst_ltm        object \n",
      " 39  ct_src_ ltm       object \n",
      " 40  ct_src_dport_ltm  object \n",
      " 41  ct_dst_sport_ltm  object \n",
      " 42  ct_dst_src_ltm    object \n",
      " 43  Label             object \n",
      "dtypes: float64(1), object(43)\n",
      "memory usage: 721.0+ MB\n"
     ]
    }
   ],
   "source": [
    "traindf.info()"
   ]
  },
  {
   "cell_type": "code",
   "execution_count": 50,
   "metadata": {},
   "outputs": [],
   "source": [
    "testdf = load_csv(TEST_FILE[0])"
   ]
  },
  {
   "cell_type": "code",
   "execution_count": 51,
   "metadata": {},
   "outputs": [
    {
     "data": {
      "text/plain": [
       "sport               0\n",
       "dsport              0\n",
       "proto               0\n",
       "state               0\n",
       "dur                 0\n",
       "sbytes              0\n",
       "dbytes              0\n",
       "sttl                0\n",
       "dttl                0\n",
       "sloss               0\n",
       "dloss               0\n",
       "service             0\n",
       "Sload               0\n",
       "Dload               0\n",
       "Spkts               0\n",
       "Dpkts               0\n",
       "swin                0\n",
       "dwin                0\n",
       "stcpb               0\n",
       "dtcpb               0\n",
       "smeansz             0\n",
       "dmeansz             0\n",
       "trans_depth         0\n",
       "res_bdy_len         0\n",
       "Sjit                0\n",
       "Djit                0\n",
       "Sintpkt             0\n",
       "Dintpkt             0\n",
       "tcprtt              0\n",
       "synack              0\n",
       "ackdat              0\n",
       "is_sm_ips_ports     0\n",
       "ct_state_ttl        0\n",
       "ct_flw_http_mthd    0\n",
       "is_ftp_login        0\n",
       "ct_ftp_cmd          0\n",
       "ct_srv_src          0\n",
       "ct_srv_dst          0\n",
       "ct_dst_ltm          0\n",
       "ct_src_ ltm         0\n",
       "ct_src_dport_ltm    0\n",
       "ct_dst_sport_ltm    0\n",
       "ct_dst_src_ltm      0\n",
       "Label               0\n",
       "dtype: int64"
      ]
     },
     "execution_count": 51,
     "metadata": {},
     "output_type": "execute_result"
    }
   ],
   "source": [
    "testdf.fillna(0, inplace=True)\n",
    "testdf.isna().sum()"
   ]
  },
  {
   "cell_type": "code",
   "execution_count": 52,
   "metadata": {},
   "outputs": [
    {
     "data": {
      "text/plain": [
       "(440044, 44)"
      ]
     },
     "execution_count": 52,
     "metadata": {},
     "output_type": "execute_result"
    }
   ],
   "source": [
    "testdf.shape"
   ]
  },
  {
   "cell_type": "code",
   "execution_count": 53,
   "metadata": {},
   "outputs": [
    {
     "name": "stdout",
     "output_type": "stream",
     "text": [
      "<class 'pandas.core.frame.DataFrame'>\n",
      "Int64Index: 440044 entries, 1 to 440044\n",
      "Data columns (total 44 columns):\n",
      " #   Column            Non-Null Count   Dtype  \n",
      "---  ------            --------------   -----  \n",
      " 0   sport             440044 non-null  object \n",
      " 1   dsport            440044 non-null  object \n",
      " 2   proto             440044 non-null  object \n",
      " 3   state             440044 non-null  object \n",
      " 4   dur               440044 non-null  object \n",
      " 5   sbytes            440044 non-null  object \n",
      " 6   dbytes            440044 non-null  object \n",
      " 7   sttl              440044 non-null  object \n",
      " 8   dttl              440044 non-null  object \n",
      " 9   sloss             440044 non-null  object \n",
      " 10  dloss             440044 non-null  object \n",
      " 11  service           440044 non-null  object \n",
      " 12  Sload             440044 non-null  object \n",
      " 13  Dload             440044 non-null  object \n",
      " 14  Spkts             440044 non-null  object \n",
      " 15  Dpkts             440044 non-null  object \n",
      " 16  swin              440044 non-null  object \n",
      " 17  dwin              440044 non-null  object \n",
      " 18  stcpb             440044 non-null  object \n",
      " 19  dtcpb             440044 non-null  object \n",
      " 20  smeansz           440044 non-null  object \n",
      " 21  dmeansz           440044 non-null  object \n",
      " 22  trans_depth       440044 non-null  object \n",
      " 23  res_bdy_len       440044 non-null  object \n",
      " 24  Sjit              440044 non-null  object \n",
      " 25  Djit              440044 non-null  object \n",
      " 26  Sintpkt           440044 non-null  object \n",
      " 27  Dintpkt           440044 non-null  object \n",
      " 28  tcprtt            440044 non-null  object \n",
      " 29  synack            440044 non-null  object \n",
      " 30  ackdat            440044 non-null  object \n",
      " 31  is_sm_ips_ports   440044 non-null  object \n",
      " 32  ct_state_ttl      440044 non-null  object \n",
      " 33  ct_flw_http_mthd  440044 non-null  object \n",
      " 34  is_ftp_login      440044 non-null  object \n",
      " 35  ct_ftp_cmd        440044 non-null  float64\n",
      " 36  ct_srv_src        440044 non-null  object \n",
      " 37  ct_srv_dst        440044 non-null  object \n",
      " 38  ct_dst_ltm        440044 non-null  object \n",
      " 39  ct_src_ ltm       440044 non-null  object \n",
      " 40  ct_src_dport_ltm  440044 non-null  object \n",
      " 41  ct_dst_sport_ltm  440044 non-null  object \n",
      " 42  ct_dst_src_ltm    440044 non-null  object \n",
      " 43  Label             440044 non-null  object \n",
      "dtypes: float64(1), object(43)\n",
      "memory usage: 151.1+ MB\n"
     ]
    }
   ],
   "source": [
    "testdf.info()"
   ]
  },
  {
   "cell_type": "code",
   "execution_count": 64,
   "metadata": {},
   "outputs": [
    {
     "data": {
      "image/png": "[encoded data removed]",
      "text/plain": [
       "<Figure size 800x800 with 1 Axes>"
      ]
     },
     "metadata": {},
     "output_type": "display_data"
    }
   ],
   "source": [
    "plt.figure(figsize=(8,8))\n",
    "ax = sns.barplot(x='Label',y='counts',data=traindf.groupby('Label').size().reset_index(name='counts'))\n",
    "ax.set_title('Distribution of attack labels')\n",
    "ax.set_xlabel('Label')\n",
    "ax.set_ylabel('Count')\n",
    "plt.xticks(rotation=45)\n",
    "plt.yticks(rotation=45)\n",
    "plt.show()"
   ]
  },
  {
   "cell_type": "code",
   "execution_count": 67,
   "metadata": {},
   "outputs": [],
   "source": [
    "lstm_output_size = 70\n",
    "\n",
    "cnn = Sequential()\n",
    "cnn.add(tf.keras.layers.Normalization(axis=-1, mean=None, variance=None, invert=False))\n",
    "cnn.add(Convolution1D(64, 3, padding=\"same\",\n",
    "        activation=\"relu\", input_shape=(45, 1)))\n",
    "cnn.add(Convolution1D(64, 3, padding=\"same\", activation=\"relu\"))\n",
    "cnn.add(MaxPooling1D(pool_size=(2)))\n",
    "cnn.add(Convolution1D(128, 3, padding=\"same\", activation=\"relu\"))\n",
    "cnn.add(Convolution1D(128, 3, padding=\"same\", activation=\"relu\"))\n",
    "cnn.add(MaxPooling1D(pool_size=(2)))\n",
    "cnn.add(LSTM(lstm_output_size))\n",
    "cnn.add(Dropout(0.1))\n",
    "cnn.add(Dense(1, activation=\"sigmoid\"))"
   ]
  },
  {
   "cell_type": "code",
   "execution_count": 68,
   "metadata": {},
   "outputs": [],
   "source": [
    "cnn.compile(loss=\"binary_crossentropy\", optimizer=\"adam\", metrics=['accuracy'])"
   ]
  },
  {
   "cell_type": "code",
   "execution_count": 69,
   "metadata": {},
   "outputs": [],
   "source": [
    "checkpointer = callbacks.ModelCheckpoint(\n",
    "    filepath=\"./content/results/cnn3results/checkpoint-{epoch:02d}.hdf5\", verbose=1, save_best_only=True, monitor='accuracy', mode='max')\n",
    "csv_logger = CSVLogger(\n",
    "    './content/results/cnn3results/cnntrainanalysis1.csv', separator=',', append=True)"
   ]
  },
  {
   "cell_type": "code",
   "execution_count": 77,
   "metadata": {},
   "outputs": [],
   "source": [
    "for column in traindf.columns:\n",
    "    try:\n",
    "        if traindf[column].dtype == type(object):\n",
    "            le = LabelEncoder()\n",
    "            traindf[column] = traindf[column].astype(str)\n",
    "            traindf[column] = traindf[column].str.replace(\".\", \"\", regex=True)\n",
    "            traindf[column] = le.fit_transform(traindf[column])\n",
    "    except Exception as e:\n",
    "        print(e)\n",
    "        print(column)\n",
    "\n",
    "C = traindf.iloc[1:, 43]\n",
    "T = traindf.iloc[1:, 1:43]\n",
    "scaler = Normalizer().fit(T)\n",
    "trainT = scaler.transform(T)\n",
    "y_train = np.array(C)\n",
    "X_train = np.reshape(trainT, (trainT.shape[0], trainT.shape[1], 1))"
   ]
  },
  {
   "cell_type": "code",
   "execution_count": 78,
   "metadata": {},
   "outputs": [],
   "source": [
    "for column in testdf.columns:\n",
    "    try:\n",
    "        if testdf[column].dtype == type(object):\n",
    "            le = LabelEncoder()\n",
    "            testdf[column] = testdf[column].astype(str)\n",
    "            testdf[column] = testdf[column].str.replace(\".\", \"\", regex=True)\n",
    "            testdf[column] = le.fit_transform(testdf[column])\n",
    "    except Exception as e:\n",
    "        print(e)\n",
    "        print(column)\n",
    "C = testdf.iloc[1:, 43]\n",
    "T = testdf.iloc[1:, 1:43]\n",
    "scaler = Normalizer().fit(T)\n",
    "testT = scaler.transform(T)\n",
    "y_test = np.array(C)\n",
    "X_test = np.reshape(testT, (testT.shape[0], testT.shape[1], 1))"
   ]
  },
  {
   "cell_type": "code",
   "execution_count": 79,
   "metadata": {},
   "outputs": [
    {
     "name": "stdout",
     "output_type": "stream",
     "text": [
      "  297/65625 [..............................] - ETA: 24:16 - loss: 0.2364 - accuracy: 0.8964"
     ]
    },
    {
     "ename": "KeyboardInterrupt",
     "evalue": "",
     "output_type": "error",
     "traceback": [
      "\u001b[1;31m---------------------------------------------------------------------------\u001b[0m",
      "\u001b[1;31mKeyboardInterrupt\u001b[0m                         Traceback (most recent call last)",
      "Cell \u001b[1;32mIn[79], line 1\u001b[0m\n\u001b[1;32m----> 1\u001b[0m cnn\u001b[39m.\u001b[39;49mfit(X_train, y_train, epochs\u001b[39m=\u001b[39;49m\u001b[39m1\u001b[39;49m, validation_data\u001b[39m=\u001b[39;49m(X_test, y_test), callbacks\u001b[39m=\u001b[39;49m[checkpointer, csv_logger, callbacks\u001b[39m.\u001b[39;49mEarlyStopping(monitor\u001b[39m=\u001b[39;49m\u001b[39m'\u001b[39;49m\u001b[39maccuracy\u001b[39;49m\u001b[39m'\u001b[39;49m, patience\u001b[39m=\u001b[39;49m\u001b[39m3\u001b[39;49m)])\n\u001b[0;32m      2\u001b[0m cnn\u001b[39m.\u001b[39msave(\u001b[39m\"\u001b[39m\u001b[39m./content/results/cnn3results/cnn_model.hdf5\u001b[39m\u001b[39m\"\u001b[39m)\n",
      "File \u001b[1;32mc:\\Users\\letua\\anaconda3\\lib\\site-packages\\keras\\utils\\traceback_utils.py:65\u001b[0m, in \u001b[0;36mfilter_traceback.<locals>.error_handler\u001b[1;34m(*args, **kwargs)\u001b[0m\n\u001b[0;32m     63\u001b[0m filtered_tb \u001b[39m=\u001b[39m \u001b[39mNone\u001b[39;00m\n\u001b[0;32m     64\u001b[0m \u001b[39mtry\u001b[39;00m:\n\u001b[1;32m---> 65\u001b[0m     \u001b[39mreturn\u001b[39;00m fn(\u001b[39m*\u001b[39margs, \u001b[39m*\u001b[39m\u001b[39m*\u001b[39mkwargs)\n\u001b[0;32m     66\u001b[0m \u001b[39mexcept\u001b[39;00m \u001b[39mException\u001b[39;00m \u001b[39mas\u001b[39;00m e:\n\u001b[0;32m     67\u001b[0m     filtered_tb \u001b[39m=\u001b[39m _process_traceback_frames(e\u001b[39m.\u001b[39m__traceback__)\n",
      "File \u001b[1;32mc:\\Users\\letua\\anaconda3\\lib\\site-packages\\keras\\engine\\training.py:1564\u001b[0m, in \u001b[0;36mModel.fit\u001b[1;34m(self, x, y, batch_size, epochs, verbose, callbacks, validation_split, validation_data, shuffle, class_weight, sample_weight, initial_epoch, steps_per_epoch, validation_steps, validation_batch_size, validation_freq, max_queue_size, workers, use_multiprocessing)\u001b[0m\n\u001b[0;32m   1556\u001b[0m \u001b[39mwith\u001b[39;00m tf\u001b[39m.\u001b[39mprofiler\u001b[39m.\u001b[39mexperimental\u001b[39m.\u001b[39mTrace(\n\u001b[0;32m   1557\u001b[0m     \u001b[39m\"\u001b[39m\u001b[39mtrain\u001b[39m\u001b[39m\"\u001b[39m,\n\u001b[0;32m   1558\u001b[0m     epoch_num\u001b[39m=\u001b[39mepoch,\n\u001b[1;32m   (...)\u001b[0m\n\u001b[0;32m   1561\u001b[0m     _r\u001b[39m=\u001b[39m\u001b[39m1\u001b[39m,\n\u001b[0;32m   1562\u001b[0m ):\n\u001b[0;32m   1563\u001b[0m     callbacks\u001b[39m.\u001b[39mon_train_batch_begin(step)\n\u001b[1;32m-> 1564\u001b[0m     tmp_logs \u001b[39m=\u001b[39m \u001b[39mself\u001b[39;49m\u001b[39m.\u001b[39;49mtrain_function(iterator)\n\u001b[0;32m   1565\u001b[0m     \u001b[39mif\u001b[39;00m data_handler\u001b[39m.\u001b[39mshould_sync:\n\u001b[0;32m   1566\u001b[0m         context\u001b[39m.\u001b[39masync_wait()\n",
      "File \u001b[1;32mc:\\Users\\letua\\anaconda3\\lib\\site-packages\\tensorflow\\python\\util\\traceback_utils.py:150\u001b[0m, in \u001b[0;36mfilter_traceback.<locals>.error_handler\u001b[1;34m(*args, **kwargs)\u001b[0m\n\u001b[0;32m    148\u001b[0m filtered_tb \u001b[39m=\u001b[39m \u001b[39mNone\u001b[39;00m\n\u001b[0;32m    149\u001b[0m \u001b[39mtry\u001b[39;00m:\n\u001b[1;32m--> 150\u001b[0m   \u001b[39mreturn\u001b[39;00m fn(\u001b[39m*\u001b[39margs, \u001b[39m*\u001b[39m\u001b[39m*\u001b[39mkwargs)\n\u001b[0;32m    151\u001b[0m \u001b[39mexcept\u001b[39;00m \u001b[39mException\u001b[39;00m \u001b[39mas\u001b[39;00m e:\n\u001b[0;32m    152\u001b[0m   filtered_tb \u001b[39m=\u001b[39m _process_traceback_frames(e\u001b[39m.\u001b[39m__traceback__)\n",
      "File \u001b[1;32mc:\\Users\\letua\\anaconda3\\lib\\site-packages\\tensorflow\\python\\eager\\def_function.py:915\u001b[0m, in \u001b[0;36mFunction.__call__\u001b[1;34m(self, *args, **kwds)\u001b[0m\n\u001b[0;32m    912\u001b[0m compiler \u001b[39m=\u001b[39m \u001b[39m\"\u001b[39m\u001b[39mxla\u001b[39m\u001b[39m\"\u001b[39m \u001b[39mif\u001b[39;00m \u001b[39mself\u001b[39m\u001b[39m.\u001b[39m_jit_compile \u001b[39melse\u001b[39;00m \u001b[39m\"\u001b[39m\u001b[39mnonXla\u001b[39m\u001b[39m\"\u001b[39m\n\u001b[0;32m    914\u001b[0m \u001b[39mwith\u001b[39;00m OptionalXlaContext(\u001b[39mself\u001b[39m\u001b[39m.\u001b[39m_jit_compile):\n\u001b[1;32m--> 915\u001b[0m   result \u001b[39m=\u001b[39m \u001b[39mself\u001b[39m\u001b[39m.\u001b[39m_call(\u001b[39m*\u001b[39margs, \u001b[39m*\u001b[39m\u001b[39m*\u001b[39mkwds)\n\u001b[0;32m    917\u001b[0m new_tracing_count \u001b[39m=\u001b[39m \u001b[39mself\u001b[39m\u001b[39m.\u001b[39mexperimental_get_tracing_count()\n\u001b[0;32m    918\u001b[0m without_tracing \u001b[39m=\u001b[39m (tracing_count \u001b[39m==\u001b[39m new_tracing_count)\n",
      "File \u001b[1;32mc:\\Users\\letua\\anaconda3\\lib\\site-packages\\tensorflow\\python\\eager\\def_function.py:947\u001b[0m, in \u001b[0;36mFunction._call\u001b[1;34m(self, *args, **kwds)\u001b[0m\n\u001b[0;32m    944\u001b[0m   \u001b[39mself\u001b[39m\u001b[39m.\u001b[39m_lock\u001b[39m.\u001b[39mrelease()\n\u001b[0;32m    945\u001b[0m   \u001b[39m# In this case we have created variables on the first call, so we run the\u001b[39;00m\n\u001b[0;32m    946\u001b[0m   \u001b[39m# defunned version which is guaranteed to never create variables.\u001b[39;00m\n\u001b[1;32m--> 947\u001b[0m   \u001b[39mreturn\u001b[39;00m \u001b[39mself\u001b[39m\u001b[39m.\u001b[39m_stateless_fn(\u001b[39m*\u001b[39margs, \u001b[39m*\u001b[39m\u001b[39m*\u001b[39mkwds)  \u001b[39m# pylint: disable=not-callable\u001b[39;00m\n\u001b[0;32m    948\u001b[0m \u001b[39melif\u001b[39;00m \u001b[39mself\u001b[39m\u001b[39m.\u001b[39m_stateful_fn \u001b[39mis\u001b[39;00m \u001b[39mnot\u001b[39;00m \u001b[39mNone\u001b[39;00m:\n\u001b[0;32m    949\u001b[0m   \u001b[39m# Release the lock early so that multiple threads can perform the call\u001b[39;00m\n\u001b[0;32m    950\u001b[0m   \u001b[39m# in parallel.\u001b[39;00m\n\u001b[0;32m    951\u001b[0m   \u001b[39mself\u001b[39m\u001b[39m.\u001b[39m_lock\u001b[39m.\u001b[39mrelease()\n",
      "File \u001b[1;32mc:\\Users\\letua\\anaconda3\\lib\\site-packages\\tensorflow\\python\\eager\\function.py:2496\u001b[0m, in \u001b[0;36mFunction.__call__\u001b[1;34m(self, *args, **kwargs)\u001b[0m\n\u001b[0;32m   2493\u001b[0m \u001b[39mwith\u001b[39;00m \u001b[39mself\u001b[39m\u001b[39m.\u001b[39m_lock:\n\u001b[0;32m   2494\u001b[0m   (graph_function,\n\u001b[0;32m   2495\u001b[0m    filtered_flat_args) \u001b[39m=\u001b[39m \u001b[39mself\u001b[39m\u001b[39m.\u001b[39m_maybe_define_function(args, kwargs)\n\u001b[1;32m-> 2496\u001b[0m \u001b[39mreturn\u001b[39;00m graph_function\u001b[39m.\u001b[39;49m_call_flat(\n\u001b[0;32m   2497\u001b[0m     filtered_flat_args, captured_inputs\u001b[39m=\u001b[39;49mgraph_function\u001b[39m.\u001b[39;49mcaptured_inputs)\n",
      "File \u001b[1;32mc:\\Users\\letua\\anaconda3\\lib\\site-packages\\tensorflow\\python\\eager\\function.py:1862\u001b[0m, in \u001b[0;36mConcreteFunction._call_flat\u001b[1;34m(self, args, captured_inputs, cancellation_manager)\u001b[0m\n\u001b[0;32m   1858\u001b[0m possible_gradient_type \u001b[39m=\u001b[39m gradients_util\u001b[39m.\u001b[39mPossibleTapeGradientTypes(args)\n\u001b[0;32m   1859\u001b[0m \u001b[39mif\u001b[39;00m (possible_gradient_type \u001b[39m==\u001b[39m gradients_util\u001b[39m.\u001b[39mPOSSIBLE_GRADIENT_TYPES_NONE\n\u001b[0;32m   1860\u001b[0m     \u001b[39mand\u001b[39;00m executing_eagerly):\n\u001b[0;32m   1861\u001b[0m   \u001b[39m# No tape is watching; skip to running the function.\u001b[39;00m\n\u001b[1;32m-> 1862\u001b[0m   \u001b[39mreturn\u001b[39;00m \u001b[39mself\u001b[39m\u001b[39m.\u001b[39m_build_call_outputs(\u001b[39mself\u001b[39;49m\u001b[39m.\u001b[39;49m_inference_function\u001b[39m.\u001b[39;49mcall(\n\u001b[0;32m   1863\u001b[0m       ctx, args, cancellation_manager\u001b[39m=\u001b[39;49mcancellation_manager))\n\u001b[0;32m   1864\u001b[0m forward_backward \u001b[39m=\u001b[39m \u001b[39mself\u001b[39m\u001b[39m.\u001b[39m_select_forward_and_backward_functions(\n\u001b[0;32m   1865\u001b[0m     args,\n\u001b[0;32m   1866\u001b[0m     possible_gradient_type,\n\u001b[0;32m   1867\u001b[0m     executing_eagerly)\n\u001b[0;32m   1868\u001b[0m forward_function, args_with_tangents \u001b[39m=\u001b[39m forward_backward\u001b[39m.\u001b[39mforward()\n",
      "File \u001b[1;32mc:\\Users\\letua\\anaconda3\\lib\\site-packages\\tensorflow\\python\\eager\\function.py:499\u001b[0m, in \u001b[0;36m_EagerDefinedFunction.call\u001b[1;34m(self, ctx, args, cancellation_manager)\u001b[0m\n\u001b[0;32m    497\u001b[0m \u001b[39mwith\u001b[39;00m _InterpolateFunctionError(\u001b[39mself\u001b[39m):\n\u001b[0;32m    498\u001b[0m   \u001b[39mif\u001b[39;00m cancellation_manager \u001b[39mis\u001b[39;00m \u001b[39mNone\u001b[39;00m:\n\u001b[1;32m--> 499\u001b[0m     outputs \u001b[39m=\u001b[39m execute\u001b[39m.\u001b[39;49mexecute(\n\u001b[0;32m    500\u001b[0m         \u001b[39mstr\u001b[39;49m(\u001b[39mself\u001b[39;49m\u001b[39m.\u001b[39;49msignature\u001b[39m.\u001b[39;49mname),\n\u001b[0;32m    501\u001b[0m         num_outputs\u001b[39m=\u001b[39;49m\u001b[39mself\u001b[39;49m\u001b[39m.\u001b[39;49m_num_outputs,\n\u001b[0;32m    502\u001b[0m         inputs\u001b[39m=\u001b[39;49margs,\n\u001b[0;32m    503\u001b[0m         attrs\u001b[39m=\u001b[39;49mattrs,\n\u001b[0;32m    504\u001b[0m         ctx\u001b[39m=\u001b[39;49mctx)\n\u001b[0;32m    505\u001b[0m   \u001b[39melse\u001b[39;00m:\n\u001b[0;32m    506\u001b[0m     outputs \u001b[39m=\u001b[39m execute\u001b[39m.\u001b[39mexecute_with_cancellation(\n\u001b[0;32m    507\u001b[0m         \u001b[39mstr\u001b[39m(\u001b[39mself\u001b[39m\u001b[39m.\u001b[39msignature\u001b[39m.\u001b[39mname),\n\u001b[0;32m    508\u001b[0m         num_outputs\u001b[39m=\u001b[39m\u001b[39mself\u001b[39m\u001b[39m.\u001b[39m_num_outputs,\n\u001b[1;32m   (...)\u001b[0m\n\u001b[0;32m    511\u001b[0m         ctx\u001b[39m=\u001b[39mctx,\n\u001b[0;32m    512\u001b[0m         cancellation_manager\u001b[39m=\u001b[39mcancellation_manager)\n",
      "File \u001b[1;32mc:\\Users\\letua\\anaconda3\\lib\\site-packages\\tensorflow\\python\\eager\\execute.py:54\u001b[0m, in \u001b[0;36mquick_execute\u001b[1;34m(op_name, num_outputs, inputs, attrs, ctx, name)\u001b[0m\n\u001b[0;32m     52\u001b[0m \u001b[39mtry\u001b[39;00m:\n\u001b[0;32m     53\u001b[0m   ctx\u001b[39m.\u001b[39mensure_initialized()\n\u001b[1;32m---> 54\u001b[0m   tensors \u001b[39m=\u001b[39m pywrap_tfe\u001b[39m.\u001b[39;49mTFE_Py_Execute(ctx\u001b[39m.\u001b[39;49m_handle, device_name, op_name,\n\u001b[0;32m     55\u001b[0m                                       inputs, attrs, num_outputs)\n\u001b[0;32m     56\u001b[0m \u001b[39mexcept\u001b[39;00m core\u001b[39m.\u001b[39m_NotOkStatusException \u001b[39mas\u001b[39;00m e:\n\u001b[0;32m     57\u001b[0m   \u001b[39mif\u001b[39;00m name \u001b[39mis\u001b[39;00m \u001b[39mnot\u001b[39;00m \u001b[39mNone\u001b[39;00m:\n",
      "\u001b[1;31mKeyboardInterrupt\u001b[0m: "
     ]
    }
   ],
   "source": [
    "cnn.fit(X_train, y_train, epochs=1, validation_data=(X_test, y_test), callbacks=[checkpointer, csv_logger, callbacks.EarlyStopping(monitor='accuracy', patience=3)])\n",
    "cnn.save(\"./content/results/cnn3results/cnn_model.hdf5\")"
   ]
  }
 ],
 "metadata": {
  "kernelspec": {
   "display_name": "base",
   "language": "python",
   "name": "python3"
  },
  "language_info": {
   "codemirror_mode": {
    "name": "ipython",
    "version": 3
   },
   "file_extension": ".py",
   "mimetype": "text/x-python",
   "name": "python",
   "nbconvert_exporter": "python",
   "pygments_lexer": "ipython3",
   "version": "3.10.9"
  },
  "orig_nbformat": 4
 },
 "nbformat": 4,
 "nbformat_minor": 2
}
